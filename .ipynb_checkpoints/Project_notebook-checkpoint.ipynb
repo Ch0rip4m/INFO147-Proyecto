{
 "cells": [
  {
   "cell_type": "markdown",
   "metadata": {},
   "source": [
    "Detalle de la tarea: Realizar un python  - jupyter en el cual: \n",
    "\n",
    "* ~**seleccione cuales sus datos a analizar**~\n",
    "* ~**indique el origen de es datos, link, descripción**~\n",
    "* ~**describa el contenido de las columnas**~\n",
    "* ~**debe establecer la lectura de los datos y carga en un dataframe (utilice pandas)**~\n",
    "* **debe realizar como mínimo 4 gráficos y estos deben tener la siguiente configuración**\n",
    "    * **texto con pregunta, explicación del gráfico, la importancia del análisis y los datos involucrados**\n",
    "    * **instrucciones python para la creación de gráficos estadísticos, sugerencia utilizar pandas y matplotlib**\n",
    "    * **imagen del gráfico**\n",
    "* **debe por lo menos tener un gráfico de torta, uno de barra y uno de curvas (pueden incluir más de una categoria, ejemplo: sexo masculino, femenino, otro)**\n",
    "* **si cree necesario generar más gráficos para explicar su análisis, puede hacerlo**\n",
    "\n",
    "Nota: el ayudante es Matias Martínez, a quien copio en este email.\n"
   ]
  },
  {
   "cell_type": "markdown",
   "metadata": {},
   "source": [
    "===============================================================================================\n",
    "\n",
    "Se analizaran datos meteorologicos del pais recolectados del año 2023. Los datos seran extraidos del sitio Dirección Meteorológica de Chile - Servicios Climáticos de la Dirección General De Aeronáutica Civil. El sitio contempla una amplia cantidad de datos meteorologicos de diferentes ambitos, recolectados de varias estaciones posicionadas a lo largo del pais.\n",
    "\n",
    "Link al sitio: https://climatologia.meteochile.gob.cl/\n",
    "\n",
    "Los datos descargados del sitio vienen en planillas excel separadas con diferentes formatos. Por ello, se ha decidido preprocesar los datos descargados para consolidarlos en archivos que contemplen los datos de interes de una sola estacion o en un solo archivo grande, que contemple las columnas relevantes para el analisis. Para efectos de simplicidad, se han elegido 5 estaciones localizadas a lo largo del pais(Zona norte, centro y sur)\n",
    "\n",
    "A continuacion se describen las columnas del archivo resultante:\n",
    "- Fecha y hora del registro\n",
    "- La estación meteorologica de la cual se extrajo el dato, denotada por el identificador de dicha estacion\n",
    "- Radiacion Global Instantanea, medida en watt/m2\n",
    "- Temperatura, medida en celsius\n",
    "- Agua caida en un periodo de 6 horas, medida en mm\n",
    "- Velocidad del viento, medida en nudos(kt)\n",
    "- Nivel de humedad relativa del aire, denotada por un porcentaje.\n",
    "\n",
    "==============================================================================================="
   ]
  },
  {
   "cell_type": "code",
   "execution_count": 2,
   "metadata": {},
   "outputs": [
    {
     "name": "stdout",
     "output_type": "stream",
     "text": [
      "['510005', '400009', '180005', '330020', '550001']\n"
     ]
    }
   ],
   "source": [
    "import pandas as pd\n",
    "import matplotlib.pyplot as plt\n",
    "from datetime import datetime\n",
    "\n",
    "#Lectura de identificadores\n",
    "#Como los archivos descargados siguen un formato que involucra el identificador, es util tener a mano estos datos para agrupar los datos\n",
    "\n",
    "f = open(\"Datos/ID_Estaciones.txt\", \"r\")\n",
    "ids = []\n",
    "lines = f.readlines()\n",
    "\n",
    "for line in lines:\n",
    "    ids.append(line.split(\",\")[2].split(\"\\n\")[0])\n",
    "\n",
    "print(ids)"
   ]
  },
  {
   "cell_type": "code",
   "execution_count": 5,
   "metadata": {},
   "outputs": [
    {
     "name": "stdout",
     "output_type": "stream",
     "text": [
      "DataFrame de id: 510005 generado con exito\n",
      "DataFrame de id: 400009 generado con exito\n",
      "DataFrame de id: 180005 generado con exito\n",
      "DataFrame de id: 330020 generado con exito\n",
      "DataFrame de id: 550001 generado con exito\n"
     ]
    }
   ],
   "source": [
    "#Agrupacion de datos.\n",
    "#\n",
    "#Se agrupa los diferentes archivos de datos descargados en uno solo, con el proposito de facilitar la lectura y el acceso de los datos para el futuro.\n",
    "\n",
    "for id in ids:\n",
    "    \n",
    "    df = pd.read_csv(\"Datos/\"+ id +\"/\"+ id +\"_2023_Agua6Horas_.csv\", delimiter=\";\")\n",
    "    df2 = pd.read_csv(\"Datos/\"+ id +\"/\"+ id +\"_2023_Humedad_.csv\", delimiter=\";\")\n",
    "    df3 = pd.read_csv(\"Datos/\"+ id +\"/\"+ id +\"_2023_Temperatura_.csv\", delimiter=\";\")\n",
    "    df4 = pd.read_csv(\"Datos/\"+ id +\"/\"+ id +\"_2023_Viento_.csv\", delimiter=\";\")\n",
    "    \n",
    "    meses = [\"Ene\",\"Feb\",\"Mar\",\"Abr\",\"May\",\"Jun\",\"Jul\",\"Ago\",\"Sep\",\"Oct\",\"Nov\",\"Dic\"]\n",
    "    \n",
    "    df5 = pd.DataFrame(columns=['momento', 'RadGInst (watt/m2)'])\n",
    "    \n",
    "    for x in meses:\n",
    "        tempDf = pd.DataFrame(columns=['momento', 'RadGInst (watt/m2)'])\n",
    "        fragDf = pd.read_html(\"Datos/\"+ id +\"/Radiacion/\"+x+\".xls\")[0]\n",
    "        tempDf['momento'] = fragDf['Fecha'].astype(str) + \" \" + fragDf['Hora (UTC)'] +\":00\"\n",
    "        tempDf['RadGInst (watt/m2)'] = fragDf['RadGInst (watt/m2)']\n",
    "        if(df5.size == 0):\n",
    "            df5 = pd.concat([tempDf], ignore_index = True)\n",
    "        else:\n",
    "            df5 = pd.concat([df5,tempDf], ignore_index = True)\n",
    "    \n",
    "    df5[\"index\"] = id\n",
    "        \n",
    "    dfArr = [df,df2,df3,df4,df5]\n",
    "    \n",
    "    maxDf = dfArr[0]\n",
    "    \n",
    "    for x in dfArr:\n",
    "        if(x.iloc[:,0].size > maxDf.iloc[:,0].size):\n",
    "            maxDf = x\n",
    "            \n",
    "    if(maxDf.columns.values[0] != \"momento\"):\n",
    "        cleanDf = maxDf.reset_index().iloc[:,:2]\n",
    "        cleanDf.columns.values[1] = \"momento\"\n",
    "    else:\n",
    "        cleanDf = maxDf.iloc[:,[0,2]]\n",
    "        \n",
    "    newFrame = [\"HR_Valor\", \"RRR6_Valor\", \"ff_Valor\", \"T_Valor\", \"RadGInst(watt/m2)\"]\n",
    "    \n",
    "    col = df.reset_index().iloc[:,1:3]\n",
    "    col1 = df2.reset_index().iloc[:,1:]\n",
    "    col2 = df3.reset_index().iloc[:,1:]\n",
    "    col3 = df4.reset_index().iloc[:,[1,3]]\n",
    "    col4 = df5.iloc[:,:2]\n",
    "    \n",
    "    col.rename(columns = {'level_1':'momento'}, inplace = True) \n",
    "    col1.rename(columns = {'CodigoNacional':'momento'}, inplace = True) \n",
    "    col2.rename(columns = {'CodigoNacional':'momento'}, inplace = True) \n",
    "    col3.rename(columns = {'level_1':'momento'}, inplace = True) \n",
    "        \n",
    "    df_merged = cleanDf.merge(col, on = 'momento', how = 'left')\n",
    "    df_merged = df_merged.merge(col1, on = 'momento', how = 'left')\n",
    "    df_merged = df_merged.merge(col2, on = 'momento', how = 'left')\n",
    "    df_merged = df_merged.merge(col3, on = 'momento', how = 'left')\n",
    "    \n",
    "    df_merged = df_merged.merge(col4, on = 'momento', how = 'left')\n",
    "\n",
    "    df_merged.columns.values[0] = \"ID_Estacion\"\n",
    "    df_merged.columns.values[2] = \"RR6_Valor\"\n",
    "    df_merged.columns.values[3] = \"HR_Valor\"\n",
    "    df_merged.columns.values[4] = \"Ts_Valor\"\n",
    "    df_merged.columns.values[5] = \"ff_Valor\"\n",
    "    \n",
    "    df_merged.to_excel(id+\"_agrupado.xlsx\")\n",
    "    print('DataFrame de id: '+id+' generado con exito')"
   ]
  },
  {
   "cell_type": "code",
   "execution_count": null,
   "metadata": {},
   "outputs": [],
   "source": []
  },
  {
   "cell_type": "code",
   "execution_count": null,
   "metadata": {},
   "outputs": [],
   "source": []
  }
 ],
 "metadata": {
  "kernelspec": {
   "display_name": "Python 3 (ipykernel)",
   "language": "python",
   "name": "python3"
  },
  "language_info": {
   "codemirror_mode": {
    "name": "ipython",
    "version": 3
   },
   "file_extension": ".py",
   "mimetype": "text/x-python",
   "name": "python",
   "nbconvert_exporter": "python",
   "pygments_lexer": "ipython3",
   "version": "3.11.0"
  }
 },
 "nbformat": 4,
 "nbformat_minor": 4
}
